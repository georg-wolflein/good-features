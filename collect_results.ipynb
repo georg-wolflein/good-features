{
 "cells": [
  {
   "cell_type": "code",
   "execution_count": 1,
   "metadata": {},
   "outputs": [],
   "source": [
    "import wandb\n",
    "import pandas as pd\n",
    "from loguru import logger\n",
    "from tqdm import tqdm\n",
    "\n",
    "api = wandb.Api()"
   ]
  },
  {
   "cell_type": "code",
   "execution_count": 2,
   "metadata": {},
   "outputs": [
    {
     "name": "stderr",
     "output_type": "stream",
     "text": [
      "Loading run data: 100%|██████████| 148/148 [00:00<00:00, 9719.07it/s]\n"
     ]
    }
   ],
   "source": [
    "def filter_runs(runs, filters: dict):\n",
    "    return [run for run in runs if all(getattr(run, key) == value for key, value in filters.items())]\n",
    "\n",
    "\n",
    "def summarize_run(run):\n",
    "    return dict(\n",
    "        target=(column := run.config[\"dataset\"][\"targets\"][0][\"column\"]),\n",
    "        train_dataset=run.config[\"dataset\"][\"name\"],\n",
    "        test_dataset=run.config[\"test\"][\"dataset\"][\"name\"],\n",
    "        model=run.config[\"model\"][\"_target_\"].split(\".\")[-1],\n",
    "        feature_extractor=run.config[\"settings\"][\"feature_extractor\"],\n",
    "        augmentations=run.config[\"dataset\"][\"augmentations\"][\"name\"],\n",
    "        seed=run.config[\"seed\"],\n",
    "        train_auroc=run.summary[f\"train/{column}/auroc\"][\"best\"],\n",
    "        val_auroc=run.summary[f\"val/{column}/auroc\"][\"best\"],\n",
    "        test_auroc=run.summary[f\"test/{column}/auroc\"][\"best\"],\n",
    "    )\n",
    "\n",
    "\n",
    "runs = list(api.runs(\"histaug\"))\n",
    "runs = filter_runs(runs, {\"state\": \"finished\"})\n",
    "runs = [summarize_run(run) for run in tqdm(runs, desc=\"Loading run data\")]"
   ]
  },
  {
   "cell_type": "code",
   "execution_count": 3,
   "metadata": {},
   "outputs": [],
   "source": [
    "df = pd.DataFrame(runs)\n",
    "df = df.set_index(\n",
    "    [\"target\", \"train_dataset\", \"test_dataset\", \"model\", \"feature_extractor\", \"augmentations\", \"seed\"]\n",
    ").sort_index()\n",
    "df = df.query(\n",
    "    \"train_dataset == 'tcga_brca_subtype' and model == 'AttentionMIL' and augmentations in ['none', 'Macenko_patchwise']\"\n",
    ")\n",
    "df.to_csv(\"/app/results.csv\")"
   ]
  },
  {
   "cell_type": "code",
   "execution_count": null,
   "metadata": {},
   "outputs": [],
   "source": []
  }
 ],
 "metadata": {
  "kernelspec": {
   "display_name": "env",
   "language": "python",
   "name": "python3"
  },
  "language_info": {
   "codemirror_mode": {
    "name": "ipython",
    "version": 3
   },
   "file_extension": ".py",
   "mimetype": "text/x-python",
   "name": "python",
   "nbconvert_exporter": "python",
   "pygments_lexer": "ipython3",
   "version": "3.9.18"
  }
 },
 "nbformat": 4,
 "nbformat_minor": 2
}
