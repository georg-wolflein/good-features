{
 "cells": [
  {
   "cell_type": "code",
   "execution_count": 6,
   "metadata": {},
   "outputs": [],
   "source": [
    "import pandas as pd\n",
    "from pathlib import Path\n",
    "import re\n",
    "\n",
    "COHORT = \"CPTAC-BRCA\"\n",
    "METADATA_DIR = Path(\"/metadata\")\n",
    "\n",
    "sample_matrix_file = METADATA_DIR / f\"{COHORT}_sample_matrix.tsv\"\n",
    "clini_file = METADATA_DIR / f\"{COHORT}_CLINI.csv\"  # output file"
   ]
  },
  {
   "cell_type": "code",
   "execution_count": 11,
   "metadata": {
    "notebookRunGroups": {
     "groupValue": "1"
    }
   },
   "outputs": [],
   "source": [
    "df = pd.read_csv(sample_matrix_file, sep=\"\\t\")\n",
    "\n",
    "id_col = \"studyID:sampleId\"\n",
    "pattern = re.compile(r\"^[\\w]+:[A-Z]+(\\d[\\w]*)$\")\n",
    "\n",
    "patient_id = df[id_col].apply(lambda x: pattern.match(x).group(1))\n",
    "df[\"PATIENT\"] = patient_id\n",
    "\n",
    "# Check if there are duplicate values for a feature for a patient\n",
    "dup = df.drop(columns=[id_col]).groupby(\"PATIENT\").nunique() != 1\n",
    "dup = dup.index[dup.any(axis=1)]\n",
    "\n",
    "if len(dup) > 0:\n",
    "    print(f\"Found {len(dup)} patients with multiple values for a feature:\")\n",
    "    print(df[df[\"PATIENT\"].isin(dup)])\n",
    "    print(\"Dropping these patients.\")\n",
    "    df = df[~df[\"PATIENT\"].isin(dup)]\n",
    "\n",
    "df.drop(columns=[id_col, \"Altered\"], inplace=True)\n",
    "df.set_index(\"PATIENT\", inplace=True)\n",
    "df.to_csv(clini_file, index=True)"
   ]
  },
  {
   "cell_type": "code",
   "execution_count": null,
   "metadata": {},
   "outputs": [],
   "source": []
  }
 ],
 "metadata": {
  "kernelspec": {
   "display_name": "env",
   "language": "python",
   "name": "python3"
  },
  "language_info": {
   "codemirror_mode": {
    "name": "ipython",
    "version": 3
   },
   "file_extension": ".py",
   "mimetype": "text/x-python",
   "name": "python",
   "nbconvert_exporter": "python",
   "pygments_lexer": "ipython3",
   "version": "3.9.18"
  }
 },
 "nbformat": 4,
 "nbformat_minor": 2
}
