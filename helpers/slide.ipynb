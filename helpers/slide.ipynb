{
 "cells": [
  {
   "cell_type": "code",
   "execution_count": 5,
   "metadata": {},
   "outputs": [],
   "source": [
    "import pandas as pd\n",
    "from pathlib import Path\n",
    "import re\n",
    "\n",
    "COHORT = \"TCGA-BRCA\"\n",
    "COHORT = \"TCGA-CRC\"\n",
    "COHORT = \"CPTAC-BRCA\"\n",
    "COHORT = \"CPTAC-CRC\"\n",
    "COHORT = \"CAMELYON17\"\n",
    "\n",
    "METADATA_DIR = Path(\"/metadata\")\n",
    "DATA_DIR = Path(\"/data\")\n",
    "\n",
    "if \"TCGA\" in COHORT:\n",
    "    PATTERN = r\"^(\\w+-\\w+-\\w+)-.*$\"\n",
    "elif \"CPTAC\" in COHORT:\n",
    "    PATTERN = r\"^(\\w+)-.*$\"\n",
    "elif \"CAMELYON\" in COHORT:\n",
    "    PATTERN = r\"^(patient_\\d+_node_\\d).*$\"\n",
    "\n",
    "features_dir = DATA_DIR / \"histaug\" / \"features\" / COHORT / \"ctranspath\"\n",
    "slide_file = METADATA_DIR / f\"{COHORT}_SLIDE.csv\"  # output file"
   ]
  },
  {
   "cell_type": "code",
   "execution_count": 6,
   "metadata": {},
   "outputs": [],
   "source": [
    "def find_zarrs(path: Path):\n",
    "    # Avoids having to look inside .zarr directories\n",
    "    if path.suffix == \".zarr\":\n",
    "        yield path\n",
    "    else:\n",
    "        for x in path.iterdir():\n",
    "            if x.is_dir():\n",
    "                yield from find_zarrs(x)\n",
    "\n",
    "\n",
    "files = sorted(x.relative_to(features_dir) for x in find_zarrs(features_dir))"
   ]
  },
  {
   "cell_type": "code",
   "execution_count": 7,
   "metadata": {
    "notebookRunGroups": {
     "groupValue": "1"
    }
   },
   "outputs": [],
   "source": [
    "pattern = re.compile(PATTERN)\n",
    "\n",
    "patient_id = [pattern.match(x.name).group(1) for x in files]\n",
    "\n",
    "df = pd.DataFrame({\"PATIENT\": patient_id, \"FILENAME\": files}).set_index(\"PATIENT\")\n",
    "df.to_csv(slide_file, index=True)"
   ]
  },
  {
   "cell_type": "code",
   "execution_count": null,
   "metadata": {},
   "outputs": [],
   "source": []
  }
 ],
 "metadata": {
  "kernelspec": {
   "display_name": "env",
   "language": "python",
   "name": "python3"
  },
  "language_info": {
   "codemirror_mode": {
    "name": "ipython",
    "version": 3
   },
   "file_extension": ".py",
   "mimetype": "text/x-python",
   "name": "python",
   "nbconvert_exporter": "python",
   "pygments_lexer": "ipython3",
   "version": "3.9.16"
  }
 },
 "nbformat": 4,
 "nbformat_minor": 2
}
