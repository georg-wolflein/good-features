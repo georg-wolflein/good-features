{
 "cells": [
  {
   "cell_type": "code",
   "execution_count": 13,
   "metadata": {},
   "outputs": [],
   "source": [
    "from pathlib import Path\n",
    "from tqdm import tqdm\n",
    "\n",
    "FEATURES_DIR = Path(\"/data/histaug/features\")"
   ]
  },
  {
   "cell_type": "code",
   "execution_count": 21,
   "metadata": {},
   "outputs": [
    {
     "name": "stderr",
     "output_type": "stream",
     "text": [
      "Processing CPTAC-BRCA: 100%|██████████| 10/10 [00:11<00:00,  1.17s/it]\n"
     ]
    },
    {
     "name": "stdout",
     "output_type": "stream",
     "text": [
      "Found 0 directories to delete in CPTAC-BRCA\n"
     ]
    },
    {
     "name": "stderr",
     "output_type": "stream",
     "text": [
      "Processing CAMELYON17: 100%|██████████| 11/11 [00:34<00:00,  3.13s/it]\n"
     ]
    },
    {
     "name": "stdout",
     "output_type": "stream",
     "text": [
      "Found 130000 directories to delete in CAMELYON17\n"
     ]
    },
    {
     "name": "stderr",
     "output_type": "stream",
     "text": [
      "Processing TCGA-BRCA:  92%|█████████▏| 11/12 [02:09<00:13, 13.62s/it]"
     ]
    }
   ],
   "source": [
    "to_delete = []\n",
    "\n",
    "\n",
    "def delete(dir: Path):\n",
    "    to_delete.append(dir)\n",
    "\n",
    "\n",
    "for dataset_dir in FEATURES_DIR.iterdir():\n",
    "    if not dataset_dir.is_dir() or dataset_dir.name == \"kather100k\":\n",
    "        continue\n",
    "\n",
    "    i = 0\n",
    "    for feature_extractor_dir in tqdm(list(dataset_dir.iterdir()), desc=f\"Processing {dataset_dir.name}\"):\n",
    "        if not feature_extractor_dir.is_dir() or feature_extractor_dir.name in (\"owkin_teacher\", \"mocov2\"):\n",
    "            continue\n",
    "\n",
    "        for slide_dir in feature_extractor_dir.glob(\"*.zarr\"):\n",
    "            if not slide_dir.is_dir():\n",
    "                continue\n",
    "\n",
    "            feats_augs_dir = slide_dir / \"feats_augs\"\n",
    "            if feats_augs_dir.exists():\n",
    "                for aug_dir in feats_augs_dir.iterdir():\n",
    "                    if not aug_dir.is_dir():\n",
    "                        continue\n",
    "                    if aug_dir.name != \"Macenko\":\n",
    "                        delete(aug_dir)\n",
    "                        i += 1\n",
    "    print(f\"Found {i} directories to delete in {dataset_dir.name}\")"
   ]
  },
  {
   "cell_type": "code",
   "execution_count": null,
   "metadata": {},
   "outputs": [],
   "source": [
    "with open(\"delete.sh\", \"w\") as f:\n",
    "    for i, dir in enumerate(to_delete):\n",
    "        if i % 1000 == 0:\n",
    "            f.write(f'echo \"{i} / {len(to_delete)} ({i / len(to_delete) * 100:.2f}%)\"\\n')\n",
    "        f.write(f'rm -rf \"{dir}\"\\n')"
   ]
  }
 ],
 "metadata": {
  "kernelspec": {
   "display_name": "env",
   "language": "python",
   "name": "python3"
  },
  "language_info": {
   "codemirror_mode": {
    "name": "ipython",
    "version": 3
   },
   "file_extension": ".py",
   "mimetype": "text/x-python",
   "name": "python",
   "nbconvert_exporter": "python",
   "pygments_lexer": "ipython3",
   "version": "3.9.18"
  }
 },
 "nbformat": 4,
 "nbformat_minor": 2
}
