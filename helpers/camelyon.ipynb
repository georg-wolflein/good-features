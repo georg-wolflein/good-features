{
 "cells": [
  {
   "cell_type": "code",
   "execution_count": 24,
   "metadata": {},
   "outputs": [],
   "source": [
    "from pathlib import Path\n",
    "import pandas as pd\n",
    "\n",
    "DATA_DIR = Path(\"/data/shiprec/camelyon16/training\")\n",
    "META_DIR = Path(\"/metadata\")\n",
    "\n",
    "# Exclude erroneous files from the dataset (https://arxiv.org/pdf/1703.02442v2.pdf)\n",
    "EXCLUDED_FILES = {\"normal_144\", \"normal_086\", \"test_049\"}"
   ]
  },
  {
   "cell_type": "code",
   "execution_count": 25,
   "metadata": {},
   "outputs": [
    {
     "data": {
      "text/plain": [
       "269"
      ]
     },
     "execution_count": 25,
     "metadata": {},
     "output_type": "execute_result"
    }
   ],
   "source": [
    "files = sorted(x for x in DATA_DIR.glob(\"*.zarr\") if x.stem not in EXCLUDED_FILES)\n",
    "len(files)"
   ]
  },
  {
   "cell_type": "code",
   "execution_count": 26,
   "metadata": {},
   "outputs": [],
   "source": [
    "slide_df = pd.DataFrame({\"PATIENT\": [x.stem for x in files], \"FILENAME\": [x.name for x in files]})\n",
    "clini_df = pd.DataFrame(\n",
    "    {\"PATIENT\": [x.stem for x in files], \"status\": [\"tumor\" if x.stem.startswith(\"tumor\") else \"normal\" for x in files]}\n",
    ")\n",
    "slide_df.to_csv(META_DIR / \"camelyon16_train_slide.csv\", index=False)\n",
    "clini_df.to_csv(META_DIR / \"camelyon16_train_clini.csv\", index=False)"
   ]
  },
  {
   "cell_type": "code",
   "execution_count": null,
   "metadata": {},
   "outputs": [],
   "source": []
  }
 ],
 "metadata": {
  "kernelspec": {
   "display_name": "env",
   "language": "python",
   "name": "python3"
  },
  "language_info": {
   "codemirror_mode": {
    "name": "ipython",
    "version": 3
   },
   "file_extension": ".py",
   "mimetype": "text/x-python",
   "name": "python",
   "nbconvert_exporter": "python",
   "pygments_lexer": "ipython3",
   "version": "3.9.18"
  }
 },
 "nbformat": 4,
 "nbformat_minor": 2
}
