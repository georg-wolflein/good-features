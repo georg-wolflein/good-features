{
 "cells": [
  {
   "cell_type": "code",
   "execution_count": 26,
   "metadata": {},
   "outputs": [],
   "source": [
    "import pandas as pd\n",
    "from pathlib import Path\n",
    "from loguru import logger\n",
    "\n",
    "COHORT = \"CAMELYON17\"\n",
    "METADATA_DIR = Path(\"/metadata\")\n",
    "\n",
    "clinical_file = METADATA_DIR / f\"{COHORT}_clinical.csv\""
   ]
  },
  {
   "cell_type": "code",
   "execution_count": 34,
   "metadata": {},
   "outputs": [
    {
     "data": {
      "text/html": [
       "<div>\n",
       "<style scoped>\n",
       "    .dataframe tbody tr th:only-of-type {\n",
       "        vertical-align: middle;\n",
       "    }\n",
       "\n",
       "    .dataframe tbody tr th {\n",
       "        vertical-align: top;\n",
       "    }\n",
       "\n",
       "    .dataframe thead th {\n",
       "        text-align: right;\n",
       "    }\n",
       "</style>\n",
       "<table border=\"1\" class=\"dataframe\">\n",
       "  <thead>\n",
       "    <tr style=\"text-align: right;\">\n",
       "      <th></th>\n",
       "      <th>lymph_status</th>\n",
       "      <th>lymph</th>\n",
       "      <th>center</th>\n",
       "    </tr>\n",
       "    <tr>\n",
       "      <th>PATIENT</th>\n",
       "      <th></th>\n",
       "      <th></th>\n",
       "      <th></th>\n",
       "    </tr>\n",
       "  </thead>\n",
       "  <tbody>\n",
       "    <tr>\n",
       "      <th>patient_000_node_0</th>\n",
       "      <td>negative</td>\n",
       "      <td>negative</td>\n",
       "      <td>0</td>\n",
       "    </tr>\n",
       "    <tr>\n",
       "      <th>patient_000_node_1</th>\n",
       "      <td>negative</td>\n",
       "      <td>negative</td>\n",
       "      <td>0</td>\n",
       "    </tr>\n",
       "    <tr>\n",
       "      <th>patient_000_node_2</th>\n",
       "      <td>negative</td>\n",
       "      <td>negative</td>\n",
       "      <td>0</td>\n",
       "    </tr>\n",
       "    <tr>\n",
       "      <th>patient_000_node_3</th>\n",
       "      <td>negative</td>\n",
       "      <td>negative</td>\n",
       "      <td>0</td>\n",
       "    </tr>\n",
       "    <tr>\n",
       "      <th>patient_000_node_4</th>\n",
       "      <td>negative</td>\n",
       "      <td>negative</td>\n",
       "      <td>0</td>\n",
       "    </tr>\n",
       "    <tr>\n",
       "      <th>...</th>\n",
       "      <td>...</td>\n",
       "      <td>...</td>\n",
       "      <td>...</td>\n",
       "    </tr>\n",
       "    <tr>\n",
       "      <th>patient_099_node_0</th>\n",
       "      <td>negative</td>\n",
       "      <td>negative</td>\n",
       "      <td>4</td>\n",
       "    </tr>\n",
       "    <tr>\n",
       "      <th>patient_099_node_1</th>\n",
       "      <td>negative</td>\n",
       "      <td>negative</td>\n",
       "      <td>4</td>\n",
       "    </tr>\n",
       "    <tr>\n",
       "      <th>patient_099_node_2</th>\n",
       "      <td>negative</td>\n",
       "      <td>negative</td>\n",
       "      <td>4</td>\n",
       "    </tr>\n",
       "    <tr>\n",
       "      <th>patient_099_node_3</th>\n",
       "      <td>negative</td>\n",
       "      <td>negative</td>\n",
       "      <td>4</td>\n",
       "    </tr>\n",
       "    <tr>\n",
       "      <th>patient_099_node_4</th>\n",
       "      <td>macro</td>\n",
       "      <td>positive</td>\n",
       "      <td>4</td>\n",
       "    </tr>\n",
       "  </tbody>\n",
       "</table>\n",
       "<p>500 rows × 3 columns</p>\n",
       "</div>"
      ],
      "text/plain": [
       "                   lymph_status     lymph  center\n",
       "PATIENT                                          \n",
       "patient_000_node_0     negative  negative       0\n",
       "patient_000_node_1     negative  negative       0\n",
       "patient_000_node_2     negative  negative       0\n",
       "patient_000_node_3     negative  negative       0\n",
       "patient_000_node_4     negative  negative       0\n",
       "...                         ...       ...     ...\n",
       "patient_099_node_0     negative  negative       4\n",
       "patient_099_node_1     negative  negative       4\n",
       "patient_099_node_2     negative  negative       4\n",
       "patient_099_node_3     negative  negative       4\n",
       "patient_099_node_4        macro  positive       4\n",
       "\n",
       "[500 rows x 3 columns]"
      ]
     },
     "execution_count": 34,
     "metadata": {},
     "output_type": "execute_result"
    }
   ],
   "source": [
    "dfc = pd.read_csv(clinical_file)\n",
    "dfc = dfc[dfc.patient.str.endswith(\".tif\")]\n",
    "dfc.patient = dfc.patient.str.replace(\".tif\", \"\", regex=False)\n",
    "dfc[\"lymph\"] = dfc[\"stage\"].map({\"micro\": \"positive\", \"macro\": \"positive\", \"itc\": \"positive\", \"negative\": \"negative\"})\n",
    "dfc[\"center\"] = dfc.patient.str.extract(r\"patient_(\\d+)_node_\\d+\").astype(int) // 20\n",
    "dfc = dfc.rename(columns={\"patient\": \"PATIENT\", \"stage\": \"lymph_status\"})\n",
    "dfc = dfc.set_index(\"PATIENT\")\n",
    "dfc"
   ]
  },
  {
   "cell_type": "code",
   "execution_count": 35,
   "metadata": {},
   "outputs": [
    {
     "name": "stderr",
     "output_type": "stream",
     "text": [
      "\u001b[32m2023-11-04 20:28:27.223\u001b[0m | \u001b[1mINFO    \u001b[0m | \u001b[36m__main__\u001b[0m:\u001b[36m<module>\u001b[0m:\u001b[36m7\u001b[0m - \u001b[1mSaved 400 train and 100 test patients for center 0\u001b[0m\n",
      "\u001b[32m2023-11-04 20:28:27.239\u001b[0m | \u001b[1mINFO    \u001b[0m | \u001b[36m__main__\u001b[0m:\u001b[36m<module>\u001b[0m:\u001b[36m7\u001b[0m - \u001b[1mSaved 400 train and 100 test patients for center 1\u001b[0m\n",
      "\u001b[32m2023-11-04 20:28:27.253\u001b[0m | \u001b[1mINFO    \u001b[0m | \u001b[36m__main__\u001b[0m:\u001b[36m<module>\u001b[0m:\u001b[36m7\u001b[0m - \u001b[1mSaved 400 train and 100 test patients for center 2\u001b[0m\n",
      "\u001b[32m2023-11-04 20:28:27.265\u001b[0m | \u001b[1mINFO    \u001b[0m | \u001b[36m__main__\u001b[0m:\u001b[36m<module>\u001b[0m:\u001b[36m7\u001b[0m - \u001b[1mSaved 400 train and 100 test patients for center 3\u001b[0m\n",
      "\u001b[32m2023-11-04 20:28:27.277\u001b[0m | \u001b[1mINFO    \u001b[0m | \u001b[36m__main__\u001b[0m:\u001b[36m<module>\u001b[0m:\u001b[36m7\u001b[0m - \u001b[1mSaved 400 train and 100 test patients for center 4\u001b[0m\n"
     ]
    }
   ],
   "source": [
    "for center in dfc.center.unique():\n",
    "    train_df = dfc[dfc.center != center]\n",
    "    test_df = dfc[dfc.center == center]\n",
    "\n",
    "    train_df.to_csv(METADATA_DIR / f\"{COHORT}_{center}_train_CLINI.csv\")\n",
    "    test_df.to_csv(METADATA_DIR / f\"{COHORT}_{center}_test_CLINI.csv\")\n",
    "    logger.info(f\"Saved {len(train_df)} train and {len(test_df)} test patients for center {center}\")"
   ]
  },
  {
   "cell_type": "code",
   "execution_count": null,
   "metadata": {},
   "outputs": [],
   "source": []
  }
 ],
 "metadata": {
  "kernelspec": {
   "display_name": "env",
   "language": "python",
   "name": "python3"
  },
  "language_info": {
   "codemirror_mode": {
    "name": "ipython",
    "version": 3
   },
   "file_extension": ".py",
   "mimetype": "text/x-python",
   "name": "python",
   "nbconvert_exporter": "python",
   "pygments_lexer": "ipython3",
   "version": "3.9.16"
  }
 },
 "nbformat": 4,
 "nbformat_minor": 2
}
