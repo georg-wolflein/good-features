{
 "cells": [
  {
   "cell_type": "code",
   "execution_count": 1,
   "metadata": {},
   "outputs": [],
   "source": [
    "from torch.utils.data import Dataset, DataLoader\n",
    "from torchvision import transforms as T\n",
    "from pathlib import Path\n",
    "from typing import Union, Optional\n",
    "import zarr\n",
    "import torch\n",
    "from torch import nn\n",
    "from tqdm import tqdm\n",
    "import itertools\n",
    "\n",
    "from histaug.data import SlideDataset\n",
    "from histaug.utils import slide_loader\n",
    "from histaug.augmentations import load_augmentations, Augmentations\n",
    "from histaug.feature_extractors import load_feature_extractor\n",
    "from histaug.extract_features.augmented_feature_extractor import AugmentedFeatureExtractor"
   ]
  },
  {
   "cell_type": "code",
   "execution_count": 2,
   "metadata": {},
   "outputs": [
    {
     "name": "stderr",
     "output_type": "stream",
     "text": [
      "\u001b[32m2023-09-12 13:52:22.761\u001b[0m | \u001b[1mINFO    \u001b[0m | \u001b[36mhistaug.feature_extractors.utils\u001b[0m:\u001b[36mdownload_file\u001b[0m:\u001b[36m20\u001b[0m - \u001b[1mSkipping download of https://drive.google.com/u/0/uc?id=1DoDx_70_TLj98gTf6YTXnu4tFhsFocDX&export=download to /app/weights/ctranspath.pth as file already exists\u001b[0m\n",
      "/app/env/lib/python3.9/site-packages/torch/functional.py:504: UserWarning: torch.meshgrid: in an upcoming release, it will be required to pass the indexing argument. (Triggered internally at ../aten/src/ATen/native/TensorShape.cpp:3483.)\n",
      "  return _VF.meshgrid(tensors, **kwargs)  # type: ignore[attr-defined]\n",
      "\u001b[32m2023-09-12 13:52:23.975\u001b[0m | \u001b[1mINFO    \u001b[0m | \u001b[36mhistaug.augmentations\u001b[0m:\u001b[36m__init__\u001b[0m:\u001b[36m31\u001b[0m - \u001b[1mFitting Macenko normalizer to /app/normalization_template.jpg\u001b[0m\n"
     ]
    }
   ],
   "source": [
    "model = load_feature_extractor(\"ctranspath\")\n",
    "augmentations = load_augmentations()\n",
    "\n",
    "ds = SlideDataset(\"/data/shiprec/TCGA-BRCA-DX\", batch_size=256)\n",
    "loader = DataLoader(ds, batch_size=None, shuffle=False, pin_memory=True, num_workers=8)\n",
    "\n",
    "loader = slide_loader(iter(loader))"
   ]
  },
  {
   "cell_type": "code",
   "execution_count": 3,
   "metadata": {},
   "outputs": [
    {
     "name": "stderr",
     "output_type": "stream",
     "text": [
      "Processing dataset: 2it [00:29, 14.62s/it]"
     ]
    }
   ],
   "source": [
    "def process_dataset(loader, model: nn.Module, augmentations: Augmentations, device=\"cuda\", n_batches: int = None):\n",
    "    augmented_feature_extractor = AugmentedFeatureExtractor(model, augmentations)\n",
    "    augmented_feature_extractor.to(device)\n",
    "\n",
    "    with torch.no_grad():\n",
    "        all_feats = []\n",
    "        all_feats_augs = {aug_name: [] for aug_name in augmentations}\n",
    "\n",
    "        for imgs, labels, files in tqdm(\n",
    "            itertools.islice(loader, n_batches), desc=\"Processing dataset\", total=n_batches\n",
    "        ):\n",
    "            imgs = imgs.to(device)\n",
    "            feats, feats_augs = augmented_feature_extractor(imgs)\n",
    "\n",
    "            all_feats.append(feats.detach().cpu())\n",
    "            for aug_name, feats_aug in feats_augs.items():\n",
    "                all_feats_augs[aug_name].append(feats_aug.detach().cpu())\n",
    "\n",
    "        feats = torch.cat(all_feats)\n",
    "        feats_augs = {aug_name: torch.cat(feats_augs) for aug_name, feats_augs in all_feats_augs.items()}\n",
    "        return feats, feats_augs, labels, files\n",
    "\n",
    "\n",
    "for slide, patch_loader in loader:\n",
    "    result = process_dataset(\n",
    "        loader=(\n",
    "            (x[0], None, None) for x in patch_loader\n",
    "        ),  # patch_loader is a generator of (patch, slide, coords), we only need patch\n",
    "        model=model,\n",
    "        augmentations=augmentations,\n",
    "        device=\"cuda\",\n",
    "    )\n",
    "    break"
   ]
  },
  {
   "cell_type": "code",
   "execution_count": null,
   "metadata": {},
   "outputs": [],
   "source": [
    "result"
   ]
  },
  {
   "cell_type": "code",
   "execution_count": null,
   "metadata": {},
   "outputs": [],
   "source": []
  }
 ],
 "metadata": {
  "kernelspec": {
   "display_name": "env",
   "language": "python",
   "name": "python3"
  },
  "language_info": {
   "codemirror_mode": {
    "name": "ipython",
    "version": 3
   },
   "file_extension": ".py",
   "mimetype": "text/x-python",
   "name": "python",
   "nbconvert_exporter": "python",
   "pygments_lexer": "ipython3",
   "version": "3.9.18"
  }
 },
 "nbformat": 4,
 "nbformat_minor": 2
}
